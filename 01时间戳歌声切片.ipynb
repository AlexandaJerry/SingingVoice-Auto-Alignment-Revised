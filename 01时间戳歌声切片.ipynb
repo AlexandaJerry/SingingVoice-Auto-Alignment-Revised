{
 "cells": [
  {
   "cell_type": "code",
   "execution_count": 1,
   "metadata": {},
   "outputs": [
    {
     "name": "stderr",
     "output_type": "stream",
     "text": [
      "C:\\Users\\Alexanda\\AppData\\Local\\Packages\\PythonSoftwareFoundation.Python.3.8_qbz5n2kfra8p0\\LocalCache\\local-packages\\Python38\\site-packages\\requests\\__init__.py:102: RequestsDependencyWarning: urllib3 (1.26.7) or chardet (5.0.0)/charset_normalizer (2.0.7) doesn't match a supported version!\n",
      "  warnings.warn(\"urllib3 ({}) or chardet ({})/charset_normalizer ({}) doesn't match a supported \"\n",
      "C:\\Users\\Alexanda\\AppData\\Local\\Packages\\PythonSoftwareFoundation.Python.3.8_qbz5n2kfra8p0\\LocalCache\\local-packages\\Python38\\site-packages\\pydub\\utils.py:170: RuntimeWarning: Couldn't find ffmpeg or avconv - defaulting to ffmpeg, but may not work\n",
      "  warn(\"Couldn't find ffmpeg or avconv - defaulting to ffmpeg, but may not work\", RuntimeWarning)\n"
     ]
    }
   ],
   "source": [
    "import pandas as pd\n",
    "import os, io, re, sys, time, datetime\n",
    "from glob import glob\n",
    "import numpy as np\n",
    "\n",
    "from util.creating_directories import create_directories\n",
    "from util.convert_srt_to_csv import change_encoding\n",
    "from util.convert_srt_to_csv import convert_srt_to_csv\n",
    "from util.change_sample_rate import pre_process_audio\n",
    "#from util.extract_audio import wmv_to_wav\n",
    "#from util.extract_audio import mp4_to_wav\n",
    "from util.slice_audio import split_files\n",
    "from util.create_DS_csv import create_DS_csv\n",
    "from util.merge_csv import merge_csv\n",
    "from util.merge_transcripts_and_files import merge_transcripts_and_wav_files\n",
    "from util.clean import clean_unwanted_characters\n",
    "from util.split import split_dataset\n",
    "from util.audio_metrics import audio_metrics\n",
    "#from util.trans_numbers import translate_numbers\n",
    "\n",
    "start_time = time.time()"
   ]
  },
  {
   "cell_type": "code",
   "execution_count": 2,
   "metadata": {},
   "outputs": [
    {
     "name": "stdout",
     "output_type": "stream",
     "text": [
      "Folder ./srt_files/ exists.. continuing processing..\n",
      "Folder ./audio/ exists.. continuing processing..\n"
     ]
    }
   ],
   "source": [
    "#Check if srt_files directory exists and contains srt files\n",
    "srt_path = './srt_files/'\n",
    "\n",
    "if os.path.exists(srt_path):\n",
    "    print('Folder %s exists.. continuing processing..' %srt_path)\n",
    "else:\n",
    "    print('Folder \"srt_files\" is missing')\n",
    "    try:\n",
    "        os.mkdir(srt_path)\n",
    "    except OSError:\n",
    "        print('Creation of directory %s failed' %srt_path)\n",
    "    else:\n",
    "        print('Successfully created the directory %s' %srt_path)\n",
    "    print('--> Please add srt files to folder %s' %srt_path)\n",
    "\n",
    "#Check if audio directory exists and contains wmv or wav files\n",
    "\n",
    "audio_path = './audio/'\n",
    "\n",
    "if os.path.exists(audio_path):\n",
    "    print('Folder %s exists.. continuing processing..' %audio_path)\n",
    "else:\n",
    "    print('Folder \"audio\" is missing')\n",
    "    try:\n",
    "        os.mkdir(audio_path)\n",
    "    except OSError:\n",
    "        print('Creation of directory %s failed' %audio_path)\n",
    "    else:\n",
    "        print('Successfully created the directory %s' %audio_path)\n",
    "    print('--> Please add wav or wmv files to folder %s' %audio_path)\n",
    "\n",
    "srt_counter = len(glob('./srt_files/' + '*.srt'))\n",
    "\n",
    "if srt_counter == 0:\n",
    "    print('!!! Please add srt_file(s) to %s-folder' %srt_path)"
   ]
  },
  {
   "cell_type": "code",
   "execution_count": 3,
   "metadata": {},
   "outputs": [],
   "source": [
    "create_directories()"
   ]
  },
  {
   "cell_type": "code",
   "execution_count": 4,
   "metadata": {},
   "outputs": [
    {
     "name": "stdout",
     "output_type": "stream",
     "text": [
      "Encoding srt_file(s) to utf8...\n",
      "Encoding of 1-file(s) changed\n",
      "---------------------------------------------------------------------\n"
     ]
    }
   ],
   "source": [
    "#Changing encoding from \"cp1252\" (a.k.a Windows 1252)to \"utf-8-sig\"\n",
    "print('Encoding srt_file(s) to utf8...')\n",
    "for srt in glob('./srt_files/*.srt'):\n",
    "    change_encoding(srt)\n",
    "print('Encoding of %s-file(s) changed' %srt_counter)\n",
    "print('---------------------------------------------------------------------')"
   ]
  },
  {
   "cell_type": "code",
   "execution_count": 5,
   "metadata": {},
   "outputs": [
    {
     "name": "stdout",
     "output_type": "stream",
     "text": [
      "Extracting information from srt_file(s) to csv_files\n",
      "1-file(s) converted and saved as csv-files to ./csv\n",
      "---------------------------------------------------------------------\n"
     ]
    }
   ],
   "source": [
    "print('Extracting information from srt_file(s) to csv_files')\n",
    "for file in glob('./srt_files/*.srt'):\n",
    "    convert_srt_to_csv(file)\n",
    "print('%s-file(s) converted and saved as csv-files to ./csv' %srt_counter)\n",
    "print('---------------------------------------------------------------------')"
   ]
  },
  {
   "cell_type": "code",
   "execution_count": 6,
   "metadata": {},
   "outputs": [
    {
     "name": "stdout",
     "output_type": "stream",
     "text": [
      "Downsampling wav files...\n",
      "File  1  completed: 年轮\n",
      "Downsampling complete\n",
      "---------------------------------------------------------------------\n",
      "The script took  0.27492618560791016  seconds to run\n",
      "Pre-processing of audio files is complete.\n",
      "---------------------------------------------------------------------\n"
     ]
    }
   ],
   "source": [
    "pre_process_audio(audio_path)\n",
    "print('Pre-processing of audio files is complete.')\n",
    "print('---------------------------------------------------------------------')"
   ]
  },
  {
   "cell_type": "code",
   "execution_count": 7,
   "metadata": {},
   "outputs": [
    {
     "name": "stdout",
     "output_type": "stream",
     "text": [
      "Slicing audio according to start- and end_times of transcript_csvs...\n",
      "Slicing complete. 46 files in dir \"sliced_audio\"\n",
      "---------------------------------------------------------------------\n"
     ]
    }
   ],
   "source": [
    "#now slice audio according to start- and end-times in csv\n",
    "print('Slicing audio according to start- and end_times of transcript_csvs...')\n",
    "for item in glob('./ready_for_slice/*.csv'):\n",
    "    wav_item = item.replace('.csv','.wav')\n",
    "    if os.path.exists(wav_item):\n",
    "        split_files(item, wav_item)\n",
    "    else:\n",
    "        next\n",
    "wav_counter = len(glob('./sliced_audio/' + '*.wav'))\n",
    "print('Slicing complete. {} files in dir \"sliced_audio\"'.format(wav_counter))\n",
    "print('---------------------------------------------------------------------')"
   ]
  },
  {
   "cell_type": "code",
   "execution_count": 8,
   "metadata": {},
   "outputs": [
    {
     "name": "stdout",
     "output_type": "stream",
     "text": [
      "Extracting filepath and -size for every .wav file in ./sliced_audio\n",
      "DS_csv with Filenames - and sizes created.\n",
      "---------------------------------------------------------------------\n"
     ]
    }
   ],
   "source": [
    "create_DS_csv('./sliced_audio/')\n",
    "print('DS_csv with Filenames - and sizes created.')\n",
    "print('---------------------------------------------------------------------')"
   ]
  },
  {
   "cell_type": "code",
   "execution_count": 9,
   "metadata": {},
   "outputs": [
    {
     "name": "stdout",
     "output_type": "stream",
     "text": [
      "Merging csv-files with transcriptions\n",
      "All csv-files merged\n",
      "Merged csv with all transcriptions created.\n",
      "---------------------------------------------------------------------\n"
     ]
    }
   ],
   "source": [
    "#now join all seperate csv files\n",
    "merge_csv('./ready_for_slice/')\n",
    "print('Merged csv with all transcriptions created.')\n",
    "print('---------------------------------------------------------------------')"
   ]
  },
  {
   "cell_type": "code",
   "execution_count": 10,
   "metadata": {},
   "outputs": [
    {
     "name": "stdout",
     "output_type": "stream",
     "text": [
      "Final DS csv generated.\n",
      "---------------------------------------------------------------------\n"
     ]
    }
   ],
   "source": [
    "transcript_path = './merged_csv/Full_Transcript.csv'\n",
    "DS_csv = './merged_csv/Filepath_Filesize.csv'\n",
    "df_final = pd.DataFrame()\n",
    "df_transcripts = pd.read_csv(transcript_path)\n",
    "df_files = pd.read_csv(DS_csv)\n",
    "\n",
    "#by splitting the path at / and then choosing -1, the filename can be extracted\n",
    "def remove_path(path):\n",
    "    path = path.split('\\\\')[-1]\n",
    "    return path\n",
    "\n",
    "df_files['id'] = df_files['wav_filename'].apply(remove_path)\n",
    "\n",
    "#filter out duration of less than 10 seconds\n",
    "def convert(duration):\n",
    "    time = float(duration)\n",
    "    return time\n",
    "df_files['duration'] = df_files['duration'].apply(convert)\n",
    "df_files = df_files[df_files['duration']<12.00]\n",
    "df_files = df_files[df_files['duration']>2.00]\n",
    "\n",
    "#drop unnecessary columns\n",
    "df_transcripts.drop(['start_times','end_times'], axis=1, inplace=True)\n",
    "\n",
    "df_files['id'] = df_files['id'].replace('.wav', '', regex=True)\n",
    "\n",
    "#merge on column id\n",
    "df_final = pd.merge(df_transcripts, df_files, on='id')\n",
    "df_final.drop(['id'], axis=1, inplace=True)\n",
    "#rearrange columns\n",
    "df_final = df_final[['wav_filename', 'duration', 'transcript']]\n",
    "\n",
    "df_final.to_csv('./merged_csv/DS_training_final.csv', header=True, index=False, encoding='utf-8-sig')\n",
    "print('Final DS csv generated.')\n",
    "print('---------------------------------------------------------------------')"
   ]
  },
  {
   "cell_type": "code",
   "execution_count": 11,
   "metadata": {},
   "outputs": [
    {
     "name": "stdout",
     "output_type": "stream",
     "text": [
      "Length of ds_final: 44\n",
      "Final Files cleaned of unwanted characters\n",
      "Unwanted characters cleaned.\n",
      "---------------------------------------------------------------------\n"
     ]
    }
   ],
   "source": [
    "final_csv_path = 'DS_training_final.csv'\n",
    "clean_unwanted_characters(final_csv_path)\n",
    "print('Unwanted characters cleaned.')\n",
    "print('---------------------------------------------------------------------')"
   ]
  },
  {
   "cell_type": "code",
   "execution_count": 12,
   "metadata": {},
   "outputs": [],
   "source": [
    "#write transcript to text-file for language model\n",
    "df_text = pd.read_csv('merged_csv\\DS_training_final_pinyin.csv')\n",
    "df_text[['wav_filename','transcript']].to_csv('./final_csv/final.txt', header=None, index=None, mode='a')"
   ]
  },
  {
   "cell_type": "code",
   "execution_count": 13,
   "metadata": {},
   "outputs": [],
   "source": [
    "#根据汇总的文件路径和拼音内容\n",
    "import re\n",
    "with open('./final_csv/final.txt', 'r', encoding=\"utf-8-sig\") as f:\n",
    "        for lines in f.readlines():\n",
    "            wavfile=lines.split(',')\n",
    "            wavname=wavfile[0].split(\".\")\n",
    "            pinyin=re.sub(r'\\s+',' ',wavfile[1])\n",
    "            with open(\"./my_lyrics/\"+ wavname[0] + \".txt\", \"w\") as newfile:\n",
    "                newfile.write(pinyin)\n",
    "                newfile.close()\n",
    "\n",
    "import shutil,os,re\n",
    "new_path='./my_wavs/'#新文件夹路径\n",
    "wav_path='./sliced_audio/'\n",
    "\n",
    "for derName, subfolders, filenames in os.walk('./my_lyrics/'):#要复制的文件夹所在的路径\n",
    "  for i in range(len(filenames)):\n",
    "    if filenames[i].endswith('.txt'):\n",
    "        file_path = wav_path + filenames[i].split('.')[0] + \".wav\"\n",
    "        new_file_path=new_path + filenames[i].split('.')[0] + \".wav\"\n",
    "        shutil.copy(file_path, new_file_path)"
   ]
  },
  {
   "cell_type": "code",
   "execution_count": null,
   "metadata": {},
   "outputs": [],
   "source": [
    "slice_path = './ready_for_slice'\n",
    "sliced_audio = './sliced_audio'\n",
    "merged_csv_files = './merged_csv'\n",
    "final_csv_files = './final_csv'\n",
    "#shutil.rmtree(slice_path)\n",
    "if os.path.exists(slice_path):\n",
    "    shutil.rmtree(slice_path)\n",
    "if os.path.exists(sliced_audio):\n",
    "    shutil.rmtree(sliced_audio)\n",
    "if os.path.exists(merged_csv_files):\n",
    "    shutil.rmtree(merged_csv_files)\n",
    "if os.path.exists(final_csv_files):\n",
    "    shutil.rmtree(final_csv_files)\n",
    "\n",
    "#evaluate the scripts execution time\n",
    "end_time = time.time()\n",
    "exec_time = str(datetime.timedelta(seconds=end_time-start_time))\n",
    "\n",
    "print('The script took {} to run'.format(exec_time))\n",
    "print('********************************************************************************************************')\n"
   ]
  }
 ],
 "metadata": {
  "kernelspec": {
   "display_name": "Python 3.8.10 64-bit (microsoft store)",
   "language": "python",
   "name": "python3"
  },
  "language_info": {
   "codemirror_mode": {
    "name": "ipython",
    "version": 3
   },
   "file_extension": ".py",
   "mimetype": "text/x-python",
   "name": "python",
   "nbconvert_exporter": "python",
   "pygments_lexer": "ipython3",
   "version": "3.8.10"
  },
  "orig_nbformat": 4,
  "vscode": {
   "interpreter": {
    "hash": "56662346a2eb3441e5c6fc96f6404a8f76d6546233198c091da135aea9f0ab01"
   }
  }
 },
 "nbformat": 4,
 "nbformat_minor": 2
}
